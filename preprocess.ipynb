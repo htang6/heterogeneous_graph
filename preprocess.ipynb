{
 "metadata": {
  "language_info": {
   "codemirror_mode": {
    "name": "ipython",
    "version": 3
   },
   "file_extension": ".py",
   "mimetype": "text/x-python",
   "name": "python",
   "nbconvert_exporter": "python",
   "pygments_lexer": "ipython3",
   "version": "3.7.9"
  },
  "orig_nbformat": 4,
  "kernelspec": {
   "name": "python3",
   "display_name": "Python 3.7.9 64-bit ('ML': conda)"
  },
  "interpreter": {
   "hash": "d2dd00450b90913ccae907838a017fd5be04c7cb6434675abb4efe26fc0d4330"
  }
 },
 "nbformat": 4,
 "nbformat_minor": 2,
 "cells": [
  {
   "cell_type": "code",
   "execution_count": 1,
   "source": [
    "from data_process import parse_block"
   ],
   "outputs": [],
   "metadata": {}
  },
  {
   "cell_type": "code",
   "execution_count": 2,
   "source": [
    "f = open('../data/cl.obo.txt', 'r')\n",
    "content = f.read()\n",
    "term_blocks = content.split('\\n\\n')\n",
    "\n",
    "print(len(term_blocks))\n",
    "print(term_blocks[8])"
   ],
   "outputs": [
    {
     "output_type": "stream",
     "name": "stdout",
     "text": [
      "10038\n",
      "[Term]\n",
      "id: BFO:0000024\n",
      "name: fiat object part\n",
      "is_a: BFO:0000040 ! material entity\n"
     ]
    }
   ],
   "metadata": {}
  },
  {
   "cell_type": "code",
   "execution_count": 3,
   "source": [
    "cinfo_list = []\n",
    "for term_block in term_blocks:\n",
    "    cinfo = parse_block(term_block)\n",
    "    if cinfo != None:\n",
    "        cinfo_list.append(parse_block(term_block))"
   ],
   "outputs": [],
   "metadata": {}
  },
  {
   "cell_type": "code",
   "execution_count": 5,
   "source": [
    "cinfo_list[2000]"
   ],
   "outputs": [
    {
     "output_type": "execute_result",
     "data": {
      "text/plain": [
       "{'cid': 'CL:1000123',\n",
       " 'name': 'metanephric nephron tubule epithelial cell',\n",
       " 'synonyms': ([], []),\n",
       " 'main_relations': [('is_a', 'CL:1000507')],\n",
       " 'other_relations': [('BFO:0000050', 'UBERON:0005146')]}"
      ]
     },
     "metadata": {},
     "execution_count": 5
    }
   ],
   "metadata": {}
  },
  {
   "cell_type": "code",
   "execution_count": 6,
   "source": [
    "import pickle\n",
    "with open('../data/hetero_raw', 'wb') as f:\n",
    "    pickle.dump(cinfo_list, f)\n"
   ],
   "outputs": [],
   "metadata": {}
  },
  {
   "cell_type": "code",
   "execution_count": null,
   "source": [],
   "outputs": [],
   "metadata": {}
  },
  {
   "cell_type": "code",
   "execution_count": null,
   "source": [],
   "outputs": [],
   "metadata": {}
  }
 ]
}